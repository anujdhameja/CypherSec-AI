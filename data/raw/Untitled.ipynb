{
 "cells": [
  {
   "cell_type": "code",
   "execution_count": 1,
   "id": "a0cebe9f-6bfc-4a44-ba10-49fff6bc2dc7",
   "metadata": {},
   "outputs": [],
   "source": [
    "import pandas as pd"
   ]
  },
  {
   "cell_type": "code",
   "execution_count": 3,
   "id": "1f33c661-f766-4f5e-9dec-d1be55e5cff0",
   "metadata": {},
   "outputs": [],
   "source": [
    "df = pd.read_json(\"dataset.json\")"
   ]
  },
  {
   "cell_type": "code",
   "execution_count": 5,
   "id": "49d3dd54-c7ba-4dc8-ab62-459ed98e3e98",
   "metadata": {},
   "outputs": [
    {
     "data": {
      "text/html": [
       "<div>\n",
       "<style scoped>\n",
       "    .dataframe tbody tr th:only-of-type {\n",
       "        vertical-align: middle;\n",
       "    }\n",
       "\n",
       "    .dataframe tbody tr th {\n",
       "        vertical-align: top;\n",
       "    }\n",
       "\n",
       "    .dataframe thead th {\n",
       "        text-align: right;\n",
       "    }\n",
       "</style>\n",
       "<table border=\"1\" class=\"dataframe\">\n",
       "  <thead>\n",
       "    <tr style=\"text-align: right;\">\n",
       "      <th></th>\n",
       "      <th>project</th>\n",
       "      <th>commit_id</th>\n",
       "      <th>target</th>\n",
       "      <th>func</th>\n",
       "    </tr>\n",
       "  </thead>\n",
       "  <tbody>\n",
       "    <tr>\n",
       "      <th>0</th>\n",
       "      <td>FFmpeg</td>\n",
       "      <td>973b1a6b9070e2bf17d17568cbaf4043ce931f51</td>\n",
       "      <td>0</td>\n",
       "      <td>static av_cold int vdadec_init(AVCodecContext ...</td>\n",
       "    </tr>\n",
       "    <tr>\n",
       "      <th>1</th>\n",
       "      <td>FFmpeg</td>\n",
       "      <td>321b2a9ded0468670b7678b7c098886930ae16b2</td>\n",
       "      <td>0</td>\n",
       "      <td>static int transcode(AVFormatContext **output_...</td>\n",
       "    </tr>\n",
       "    <tr>\n",
       "      <th>2</th>\n",
       "      <td>FFmpeg</td>\n",
       "      <td>5d5de3eba4c7890c2e8077f5b4ae569671d11cf8</td>\n",
       "      <td>0</td>\n",
       "      <td>static void v4l2_free_buffer(void *opaque, uin...</td>\n",
       "    </tr>\n",
       "    <tr>\n",
       "      <th>3</th>\n",
       "      <td>FFmpeg</td>\n",
       "      <td>32bf6550cb9cc9f487a6722fe2bfc272a93c1065</td>\n",
       "      <td>0</td>\n",
       "      <td>int ff_get_wav_header(AVFormatContext *s, AVIO...</td>\n",
       "    </tr>\n",
       "    <tr>\n",
       "      <th>4</th>\n",
       "      <td>FFmpeg</td>\n",
       "      <td>57d77b3963ce1023eaf5ada8cba58b9379405cc8</td>\n",
       "      <td>0</td>\n",
       "      <td>int av_opencl_buffer_write(cl_mem dst_cl_buf, ...</td>\n",
       "    </tr>\n",
       "  </tbody>\n",
       "</table>\n",
       "</div>"
      ],
      "text/plain": [
       "  project                                 commit_id  target  \\\n",
       "0  FFmpeg  973b1a6b9070e2bf17d17568cbaf4043ce931f51       0   \n",
       "1  FFmpeg  321b2a9ded0468670b7678b7c098886930ae16b2       0   \n",
       "2  FFmpeg  5d5de3eba4c7890c2e8077f5b4ae569671d11cf8       0   \n",
       "3  FFmpeg  32bf6550cb9cc9f487a6722fe2bfc272a93c1065       0   \n",
       "4  FFmpeg  57d77b3963ce1023eaf5ada8cba58b9379405cc8       0   \n",
       "\n",
       "                                                func  \n",
       "0  static av_cold int vdadec_init(AVCodecContext ...  \n",
       "1  static int transcode(AVFormatContext **output_...  \n",
       "2  static void v4l2_free_buffer(void *opaque, uin...  \n",
       "3  int ff_get_wav_header(AVFormatContext *s, AVIO...  \n",
       "4  int av_opencl_buffer_write(cl_mem dst_cl_buf, ...  "
      ]
     },
     "execution_count": 5,
     "metadata": {},
     "output_type": "execute_result"
    }
   ],
   "source": [
    "df.head()"
   ]
  },
  {
   "cell_type": "code",
   "execution_count": 7,
   "id": "8045ad5c-d871-4b93-9de7-2e66920129a7",
   "metadata": {},
   "outputs": [],
   "source": [
    "count = 0"
   ]
  },
  {
   "cell_type": "code",
   "execution_count": 11,
   "id": "b2b02fc5-66b1-479f-b700-5320930b840d",
   "metadata": {},
   "outputs": [
    {
     "ename": "AttributeError",
     "evalue": "'str' object has no attribute 'target'",
     "output_type": "error",
     "traceback": [
      "\u001b[1;31m---------------------------------------------------------------------------\u001b[0m",
      "\u001b[1;31mAttributeError\u001b[0m                            Traceback (most recent call last)",
      "Cell \u001b[1;32mIn[11], line 2\u001b[0m\n\u001b[0;32m      1\u001b[0m \u001b[38;5;28;01mfor\u001b[39;00m i \u001b[38;5;129;01min\u001b[39;00m df:\n\u001b[1;32m----> 2\u001b[0m     \u001b[38;5;28;01mif\u001b[39;00m i\u001b[38;5;241m.\u001b[39mtarget\u001b[38;5;241m==\u001b[39m \u001b[38;5;241m0\u001b[39m:\n\u001b[0;32m      3\u001b[0m         count\u001b[38;5;241m+\u001b[39m\u001b[38;5;241m=\u001b[39m\u001b[38;5;241m1\u001b[39m\n",
      "\u001b[1;31mAttributeError\u001b[0m: 'str' object has no attribute 'target'"
     ]
    }
   ],
   "source": [
    "for i in df:\n",
    "    if i.target== 0:\n",
    "        count+=1"
   ]
  },
  {
   "cell_type": "code",
   "execution_count": 15,
   "id": "37162fe6-436e-435d-b530-fea788a76ff5",
   "metadata": {},
   "outputs": [
    {
     "name": "stdout",
     "output_type": "stream",
     "text": [
      "The number of rows where target is 0: 14858 out of 27318\n"
     ]
    }
   ],
   "source": [
    "count = (df['target'] == 0).sum()\n",
    "\n",
    "print(f\"The number of rows where target is 0: {count} out of {len(df)}\")"
   ]
  },
  {
   "cell_type": "code",
   "execution_count": 19,
   "id": "f7ac2fda-4e9d-4b0d-b397-78f175751b5c",
   "metadata": {},
   "outputs": [
    {
     "data": {
      "text/plain": [
       "(27318, 4)"
      ]
     },
     "execution_count": 19,
     "metadata": {},
     "output_type": "execute_result"
    }
   ],
   "source": [
    "df.shape"
   ]
  },
  {
   "cell_type": "code",
   "execution_count": 23,
   "id": "30fa9737-2bac-49f1-b4a6-131863798159",
   "metadata": {},
   "outputs": [],
   "source": [
    "df2 = df.drop('commit_id', axis = 1)"
   ]
  },
  {
   "cell_type": "code",
   "execution_count": 25,
   "id": "3a438979-9269-48f3-8ea6-886856f5582c",
   "metadata": {},
   "outputs": [
    {
     "data": {
      "text/html": [
       "<div>\n",
       "<style scoped>\n",
       "    .dataframe tbody tr th:only-of-type {\n",
       "        vertical-align: middle;\n",
       "    }\n",
       "\n",
       "    .dataframe tbody tr th {\n",
       "        vertical-align: top;\n",
       "    }\n",
       "\n",
       "    .dataframe thead th {\n",
       "        text-align: right;\n",
       "    }\n",
       "</style>\n",
       "<table border=\"1\" class=\"dataframe\">\n",
       "  <thead>\n",
       "    <tr style=\"text-align: right;\">\n",
       "      <th></th>\n",
       "      <th>project</th>\n",
       "      <th>target</th>\n",
       "      <th>func</th>\n",
       "    </tr>\n",
       "  </thead>\n",
       "  <tbody>\n",
       "    <tr>\n",
       "      <th>0</th>\n",
       "      <td>FFmpeg</td>\n",
       "      <td>0</td>\n",
       "      <td>static av_cold int vdadec_init(AVCodecContext ...</td>\n",
       "    </tr>\n",
       "    <tr>\n",
       "      <th>1</th>\n",
       "      <td>FFmpeg</td>\n",
       "      <td>0</td>\n",
       "      <td>static int transcode(AVFormatContext **output_...</td>\n",
       "    </tr>\n",
       "    <tr>\n",
       "      <th>2</th>\n",
       "      <td>FFmpeg</td>\n",
       "      <td>0</td>\n",
       "      <td>static void v4l2_free_buffer(void *opaque, uin...</td>\n",
       "    </tr>\n",
       "    <tr>\n",
       "      <th>3</th>\n",
       "      <td>FFmpeg</td>\n",
       "      <td>0</td>\n",
       "      <td>int ff_get_wav_header(AVFormatContext *s, AVIO...</td>\n",
       "    </tr>\n",
       "    <tr>\n",
       "      <th>4</th>\n",
       "      <td>FFmpeg</td>\n",
       "      <td>0</td>\n",
       "      <td>int av_opencl_buffer_write(cl_mem dst_cl_buf, ...</td>\n",
       "    </tr>\n",
       "    <tr>\n",
       "      <th>...</th>\n",
       "      <td>...</td>\n",
       "      <td>...</td>\n",
       "      <td>...</td>\n",
       "    </tr>\n",
       "    <tr>\n",
       "      <th>27313</th>\n",
       "      <td>qemu</td>\n",
       "      <td>0</td>\n",
       "      <td>static int no_init_in (HWVoiceIn *hw, audsetti...</td>\n",
       "    </tr>\n",
       "    <tr>\n",
       "      <th>27314</th>\n",
       "      <td>qemu</td>\n",
       "      <td>0</td>\n",
       "      <td>uint32_t HELPER(stfle)(CPUS390XState *env, uin...</td>\n",
       "    </tr>\n",
       "    <tr>\n",
       "      <th>27315</th>\n",
       "      <td>qemu</td>\n",
       "      <td>0</td>\n",
       "      <td>static void pxa2xx_fir_write(void *opaque, hwa...</td>\n",
       "    </tr>\n",
       "    <tr>\n",
       "      <th>27316</th>\n",
       "      <td>qemu</td>\n",
       "      <td>0</td>\n",
       "      <td>static void disas_thumb_insn(CPUARMState *env,...</td>\n",
       "    </tr>\n",
       "    <tr>\n",
       "      <th>27317</th>\n",
       "      <td>FFmpeg</td>\n",
       "      <td>0</td>\n",
       "      <td>static void rv34_pred_mv(RV34DecContext *r, in...</td>\n",
       "    </tr>\n",
       "  </tbody>\n",
       "</table>\n",
       "<p>27318 rows × 3 columns</p>\n",
       "</div>"
      ],
      "text/plain": [
       "      project  target                                               func\n",
       "0      FFmpeg       0  static av_cold int vdadec_init(AVCodecContext ...\n",
       "1      FFmpeg       0  static int transcode(AVFormatContext **output_...\n",
       "2      FFmpeg       0  static void v4l2_free_buffer(void *opaque, uin...\n",
       "3      FFmpeg       0  int ff_get_wav_header(AVFormatContext *s, AVIO...\n",
       "4      FFmpeg       0  int av_opencl_buffer_write(cl_mem dst_cl_buf, ...\n",
       "...       ...     ...                                                ...\n",
       "27313    qemu       0  static int no_init_in (HWVoiceIn *hw, audsetti...\n",
       "27314    qemu       0  uint32_t HELPER(stfle)(CPUS390XState *env, uin...\n",
       "27315    qemu       0  static void pxa2xx_fir_write(void *opaque, hwa...\n",
       "27316    qemu       0  static void disas_thumb_insn(CPUARMState *env,...\n",
       "27317  FFmpeg       0  static void rv34_pred_mv(RV34DecContext *r, in...\n",
       "\n",
       "[27318 rows x 3 columns]"
      ]
     },
     "execution_count": 25,
     "metadata": {},
     "output_type": "execute_result"
    }
   ],
   "source": [
    "df2"
   ]
  },
  {
   "cell_type": "code",
   "execution_count": 27,
   "id": "5110da71-40f4-49eb-92a3-3b9297d50bb7",
   "metadata": {},
   "outputs": [],
   "source": [
    "df3= df2.drop('project' , axis = 1)"
   ]
  },
  {
   "cell_type": "code",
   "execution_count": 29,
   "id": "a1dcbb97-f4e1-4b84-8fbd-ddd1fd816a74",
   "metadata": {},
   "outputs": [
    {
     "data": {
      "text/html": [
       "<div>\n",
       "<style scoped>\n",
       "    .dataframe tbody tr th:only-of-type {\n",
       "        vertical-align: middle;\n",
       "    }\n",
       "\n",
       "    .dataframe tbody tr th {\n",
       "        vertical-align: top;\n",
       "    }\n",
       "\n",
       "    .dataframe thead th {\n",
       "        text-align: right;\n",
       "    }\n",
       "</style>\n",
       "<table border=\"1\" class=\"dataframe\">\n",
       "  <thead>\n",
       "    <tr style=\"text-align: right;\">\n",
       "      <th></th>\n",
       "      <th>target</th>\n",
       "      <th>func</th>\n",
       "    </tr>\n",
       "  </thead>\n",
       "  <tbody>\n",
       "    <tr>\n",
       "      <th>0</th>\n",
       "      <td>0</td>\n",
       "      <td>static av_cold int vdadec_init(AVCodecContext ...</td>\n",
       "    </tr>\n",
       "    <tr>\n",
       "      <th>1</th>\n",
       "      <td>0</td>\n",
       "      <td>static int transcode(AVFormatContext **output_...</td>\n",
       "    </tr>\n",
       "    <tr>\n",
       "      <th>2</th>\n",
       "      <td>0</td>\n",
       "      <td>static void v4l2_free_buffer(void *opaque, uin...</td>\n",
       "    </tr>\n",
       "    <tr>\n",
       "      <th>3</th>\n",
       "      <td>0</td>\n",
       "      <td>int ff_get_wav_header(AVFormatContext *s, AVIO...</td>\n",
       "    </tr>\n",
       "    <tr>\n",
       "      <th>4</th>\n",
       "      <td>0</td>\n",
       "      <td>int av_opencl_buffer_write(cl_mem dst_cl_buf, ...</td>\n",
       "    </tr>\n",
       "    <tr>\n",
       "      <th>...</th>\n",
       "      <td>...</td>\n",
       "      <td>...</td>\n",
       "    </tr>\n",
       "    <tr>\n",
       "      <th>27313</th>\n",
       "      <td>0</td>\n",
       "      <td>static int no_init_in (HWVoiceIn *hw, audsetti...</td>\n",
       "    </tr>\n",
       "    <tr>\n",
       "      <th>27314</th>\n",
       "      <td>0</td>\n",
       "      <td>uint32_t HELPER(stfle)(CPUS390XState *env, uin...</td>\n",
       "    </tr>\n",
       "    <tr>\n",
       "      <th>27315</th>\n",
       "      <td>0</td>\n",
       "      <td>static void pxa2xx_fir_write(void *opaque, hwa...</td>\n",
       "    </tr>\n",
       "    <tr>\n",
       "      <th>27316</th>\n",
       "      <td>0</td>\n",
       "      <td>static void disas_thumb_insn(CPUARMState *env,...</td>\n",
       "    </tr>\n",
       "    <tr>\n",
       "      <th>27317</th>\n",
       "      <td>0</td>\n",
       "      <td>static void rv34_pred_mv(RV34DecContext *r, in...</td>\n",
       "    </tr>\n",
       "  </tbody>\n",
       "</table>\n",
       "<p>27318 rows × 2 columns</p>\n",
       "</div>"
      ],
      "text/plain": [
       "       target                                               func\n",
       "0           0  static av_cold int vdadec_init(AVCodecContext ...\n",
       "1           0  static int transcode(AVFormatContext **output_...\n",
       "2           0  static void v4l2_free_buffer(void *opaque, uin...\n",
       "3           0  int ff_get_wav_header(AVFormatContext *s, AVIO...\n",
       "4           0  int av_opencl_buffer_write(cl_mem dst_cl_buf, ...\n",
       "...       ...                                                ...\n",
       "27313       0  static int no_init_in (HWVoiceIn *hw, audsetti...\n",
       "27314       0  uint32_t HELPER(stfle)(CPUS390XState *env, uin...\n",
       "27315       0  static void pxa2xx_fir_write(void *opaque, hwa...\n",
       "27316       0  static void disas_thumb_insn(CPUARMState *env,...\n",
       "27317       0  static void rv34_pred_mv(RV34DecContext *r, in...\n",
       "\n",
       "[27318 rows x 2 columns]"
      ]
     },
     "execution_count": 29,
     "metadata": {},
     "output_type": "execute_result"
    }
   ],
   "source": [
    "df3"
   ]
  },
  {
   "cell_type": "code",
   "execution_count": 31,
   "id": "285de11b-11d6-4107-a1ef-70bba823b3cb",
   "metadata": {},
   "outputs": [],
   "source": [
    "per = count / len(df) * 100"
   ]
  },
  {
   "cell_type": "code",
   "execution_count": 33,
   "id": "0d8252ba-b4f2-4545-9f93-510dc9acfa7b",
   "metadata": {},
   "outputs": [
    {
     "data": {
      "text/plain": [
       "54.389047514459335"
      ]
     },
     "execution_count": 33,
     "metadata": {},
     "output_type": "execute_result"
    }
   ],
   "source": [
    "per"
   ]
  },
  {
   "cell_type": "code",
   "execution_count": null,
   "id": "83ca3b35-6317-4f71-ac2e-b63a9138ae45",
   "metadata": {},
   "outputs": [],
   "source": []
  }
 ],
 "metadata": {
  "kernelspec": {
   "display_name": "Python [conda env:base] *",
   "language": "python",
   "name": "conda-base-py"
  },
  "language_info": {
   "codemirror_mode": {
    "name": "ipython",
    "version": 3
   },
   "file_extension": ".py",
   "mimetype": "text/x-python",
   "name": "python",
   "nbconvert_exporter": "python",
   "pygments_lexer": "ipython3",
   "version": "3.12.7"
  }
 },
 "nbformat": 4,
 "nbformat_minor": 5
}
