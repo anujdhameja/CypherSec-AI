import pandas as pd


df = pd.read_json("dataset.json")


df.head()


count = 0


for i in df:
    if i.target== 0:
        count+=1


count = (df['target'] == 0).sum()

print(f"The number of rows where target is 0: {count} out of {len(df)}")


df.shape


df2 = df.drop('commit_id', axis = 1)


df2


df3= df2.drop('project' , axis = 1)


df3


per = count / len(df) * 100


per



